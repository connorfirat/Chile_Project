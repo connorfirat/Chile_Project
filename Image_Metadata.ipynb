{
 "cells": [
  {
   "cell_type": "markdown",
   "id": "3cbcda32",
   "metadata": {},
   "source": [
    "# Retrieving Image Collection Metadata"
   ]
  },
  {
   "cell_type": "code",
   "execution_count": 1,
   "id": "e741ce13",
   "metadata": {},
   "outputs": [],
   "source": [
    "##Import required Google Earth Engine python packages and check if they work in python environment\n",
    "import ee\n",
    "ee.Initialize()\n",
    "import geemap\n",
    "import pandas as pd"
   ]
  },
  {
   "cell_type": "code",
   "execution_count": 2,
   "id": "991bf7a7",
   "metadata": {},
   "outputs": [],
   "source": [
    "#import the map module that allows for attaching images to an interactive map\n",
    "Map = geemap.Map()"
   ]
  },
  {
   "cell_type": "markdown",
   "id": "8968bd90",
   "metadata": {},
   "source": [
    "## Import Google Earth Engine Feature Collection Data"
   ]
  },
  {
   "cell_type": "code",
   "execution_count": 3,
   "id": "c3deda58",
   "metadata": {},
   "outputs": [
    {
     "data": {
      "application/vnd.jupyter.widget-view+json": {
       "model_id": "be3c421d4cbc489bb8b7e8f598b00203",
       "version_major": 2,
       "version_minor": 0
      },
      "text/plain": [
       "Map(center=[-33.47385665572837, -70.83305894881653], controls=(WidgetControl(options=['position', 'transparent…"
      ]
     },
     "metadata": {},
     "output_type": "display_data"
    }
   ],
   "source": [
    "#Import the study area boundary from the Google Earth Engine Server\n",
    "#https://code.earthengine.google.com/?asset=users/pjf927/Chile_Project/Study_Area_Fitted\n",
    "#Good youtube tutorial on how to import your own shapefile: https://www.youtube.com/watch?v=AmaaEFbBtfQ&ab_channel=INSGIS\n",
    "#Call in the study area boundary from a vector file saved into Google Earth Engine \n",
    "Study_Area = ee.FeatureCollection(\"users/pjf927/Chile_Project/Study_Area_Fitted\")\n",
    "#Some function require geometry values to clip features\n",
    "Study_Area_Geom = Study_Area.geometry() \n",
    "\n",
    "#Call in the big study area boundary from a vector file saved into Google Earth Engine \n",
    "Big_Study_Area = ee.FeatureCollection(\"users/pjf927/Chile_Project/Study_Area_Big\")\n",
    "#Some function require geometry values to clip features\n",
    "Big_Area_Geom = Big_Study_Area.geometry() \n",
    "\n",
    "#Add study boundary to the map\n",
    "Map.addLayer(Study_Area, name = \"Study_Area\")\n",
    "Map.addLayer(Big_Study_Area, name = \"Big_Study_Area\")\n",
    "\n",
    "#Display the images centered at the whole coverage of the vector file\n",
    "Map.centerObject(Big_Study_Area, 13);\n",
    "Map"
   ]
  },
  {
   "cell_type": "markdown",
   "id": "2dc04947",
   "metadata": {},
   "source": [
    "## Import Google Earth Engine Image Collection Data"
   ]
  },
  {
   "cell_type": "code",
   "execution_count": 4,
   "id": "ecfe0e21",
   "metadata": {},
   "outputs": [
    {
     "name": "stdout",
     "output_type": "stream",
     "text": [
      "Landsat 9 Images:  27\n"
     ]
    }
   ],
   "source": [
    "#Call in Landsat 9 Level 2, Collection 2, Tier 1 dataset \n",
    "LS9_SR = (ee.ImageCollection(\"LANDSAT/LC09/C02/T1_L2\")\n",
    "    .filterBounds(Study_Area) #Filter only swath grids that cover the TN River Boundary\n",
    "    #.filterDate(\"2022-10-01\", \"2022-12-31\") #Filter Dates of Landsat acquisitions\n",
    "    .sort('system:time_start') #Sort collection by acquisition time\n",
    ")\n",
    "\n",
    "#Get a count of how many  images are in the collection\n",
    "LS9_count = LS9_SR.size().getInfo()\n",
    "print(\"Landsat 9 Images: \", LS9_count)"
   ]
  },
  {
   "cell_type": "markdown",
   "id": "c7bcdf41",
   "metadata": {},
   "source": [
    "### Get date and index parameters from the metadata's information"
   ]
  },
  {
   "cell_type": "code",
   "execution_count": 5,
   "id": "1855103e",
   "metadata": {},
   "outputs": [
    {
     "name": "stdout",
     "output_type": "stream",
     "text": [
      "Dates in Imagecollection: \n",
      " ['2021-12-06', '2021-12-22', '2022-01-07', '2022-01-23', '2022-02-08', '2022-02-24', '2022-03-28', '2022-04-13', '2022-04-29', '2022-05-15', '2022-05-31', '2022-06-16', '2022-07-02', '2022-07-18', '2022-08-03', '2022-08-19', '2022-09-04', '2022-09-20', '2022-10-06', '2022-10-22', '2022-11-07', '2022-11-23', '2022-12-09', '2022-12-25', '2023-01-10', '2023-01-26', '2023-02-11']\n",
      "Index Names in Imagecollection: \n",
      " ['LC09_233083_20211206', 'LC09_233083_20211222', 'LC09_233083_20220107', 'LC09_233083_20220123', 'LC09_233083_20220208', 'LC09_233083_20220224', 'LC09_233083_20220328', 'LC09_233083_20220413', 'LC09_233083_20220429', 'LC09_233083_20220515', 'LC09_233083_20220531', 'LC09_233083_20220616', 'LC09_233083_20220702', 'LC09_233083_20220718', 'LC09_233083_20220803', 'LC09_233083_20220819', 'LC09_233083_20220904', 'LC09_233083_20220920', 'LC09_233083_20221006', 'LC09_233083_20221022', 'LC09_233083_20221107', 'LC09_233083_20221123', 'LC09_233083_20221209', 'LC09_233083_20221225', 'LC09_233083_20230110', 'LC09_233083_20230126', 'LC09_233083_20230211']\n"
     ]
    }
   ],
   "source": [
    "#Create a function that creates a new dictionary in the image collection called 'Date' and converts the 'system:time_start' list to a \"YYYY-MM-dd\" format\n",
    "LS9_SR = LS9_SR.map(\n",
    "    lambda img: img.set({\"DATE\": ee.Date(img.get(\"system:time_start\")).format(\"YYYY-MM-dd\")})\n",
    ")\n",
    "\n",
    "#Create a list of dates and print them out\n",
    "Dates = LS9_SR.aggregate_array(\"DATE\").getInfo()\n",
    "print(\"Dates in Imagecollection: \\n\", Dates)\n",
    "\n",
    "Index = LS9_SR.aggregate_array('system:index').getInfo()\n",
    "print(\"Index Names in Imagecollection: \\n\", Index)"
   ]
  },
  {
   "cell_type": "markdown",
   "id": "da657793",
   "metadata": {},
   "source": [
    "### Get all metadata from a single image out of the image collection"
   ]
  },
  {
   "cell_type": "code",
   "execution_count": 6,
   "id": "e868f07b",
   "metadata": {},
   "outputs": [
    {
     "data": {
      "text/plain": [
       "{'ALGORITHM_SOURCE_SURFACE_REFLECTANCE': 'LaSRC_1.5.0',\n",
       " 'ALGORITHM_SOURCE_SURFACE_TEMPERATURE': 'st_1.3.0',\n",
       " 'CLOUD_COVER': 30.12,\n",
       " 'CLOUD_COVER_LAND': 25.08,\n",
       " 'COLLECTION_CATEGORY': 'T1',\n",
       " 'COLLECTION_NUMBER': 2,\n",
       " 'DATA_SOURCE_AIR_TEMPERATURE': 'MODIS',\n",
       " 'DATA_SOURCE_ELEVATION': 'GLS2000',\n",
       " 'DATA_SOURCE_OZONE': 'MODIS',\n",
       " 'DATA_SOURCE_PRESSURE': 'Calculated',\n",
       " 'DATA_SOURCE_REANALYSIS': 'GEOS-5 FP-IT',\n",
       " 'DATA_SOURCE_WATER_VAPOR': 'MODIS',\n",
       " 'DATE': '2021-12-06',\n",
       " 'DATE_ACQUIRED': '2021-12-06',\n",
       " 'DATE_PRODUCT_GENERATED': 1642677395000,\n",
       " 'DATUM': 'WGS84',\n",
       " 'EARTH_SUN_DISTANCE': 0.9853215,\n",
       " 'ELLIPSOID': 'WGS84',\n",
       " 'GEOMETRIC_RMSE_MODEL': 4.322,\n",
       " 'GEOMETRIC_RMSE_MODEL_X': 3.134,\n",
       " 'GEOMETRIC_RMSE_MODEL_Y': 2.975,\n",
       " 'GEOMETRIC_RMSE_VERIFY': 3.147,\n",
       " 'GRID_CELL_SIZE_REFLECTIVE': 30,\n",
       " 'GRID_CELL_SIZE_THERMAL': 30,\n",
       " 'GROUND_CONTROL_POINTS_MODEL': 524,\n",
       " 'GROUND_CONTROL_POINTS_VERIFY': 185,\n",
       " 'GROUND_CONTROL_POINTS_VERSION': 5,\n",
       " 'IMAGE_DATE': '2021-12-06',\n",
       " 'IMAGE_QUALITY_OLI': 9,\n",
       " 'IMAGE_QUALITY_TIRS': 9,\n",
       " 'L1_DATE_PRODUCT_GENERATED': '2022-01-20T11:00:25Z',\n",
       " 'L1_LANDSAT_PRODUCT_ID': 'LC09_L1TP_233083_20211206_20220120_02_T1',\n",
       " 'L1_PROCESSING_LEVEL': 'L1TP',\n",
       " 'L1_PROCESSING_SOFTWARE_VERSION': 'LPGS_15.6.0',\n",
       " 'L1_REQUEST_ID': 'P70184jnt9qv6_00034',\n",
       " 'LANDSAT_PRODUCT_ID': 'LC09_L2SP_233083_20211206_20220120_02_T1',\n",
       " 'LANDSAT_SCENE_ID': 'LC92330832021340LGN01',\n",
       " 'MAP_PROJECTION': 'UTM',\n",
       " 'NADIR_OFFNADIR': 'NADIR',\n",
       " 'NOMINAL_SCALE': 30,\n",
       " 'ORIENTATION': 'NORTH_UP',\n",
       " 'PROCESSING_LEVEL': 'L2SP',\n",
       " 'PROCESSING_SOFTWARE_VERSION': 'LPGS_15.6.0',\n",
       " 'REFLECTANCE_ADD_BAND_1': -0.2,\n",
       " 'REFLECTANCE_ADD_BAND_2': -0.2,\n",
       " 'REFLECTANCE_ADD_BAND_3': -0.2,\n",
       " 'REFLECTANCE_ADD_BAND_4': -0.2,\n",
       " 'REFLECTANCE_ADD_BAND_5': -0.2,\n",
       " 'REFLECTANCE_ADD_BAND_6': -0.2,\n",
       " 'REFLECTANCE_ADD_BAND_7': -0.2,\n",
       " 'REFLECTANCE_MULT_BAND_1': 2.75e-05,\n",
       " 'REFLECTANCE_MULT_BAND_2': 2.75e-05,\n",
       " 'REFLECTANCE_MULT_BAND_3': 2.75e-05,\n",
       " 'REFLECTANCE_MULT_BAND_4': 2.75e-05,\n",
       " 'REFLECTANCE_MULT_BAND_5': 2.75e-05,\n",
       " 'REFLECTANCE_MULT_BAND_6': 2.75e-05,\n",
       " 'REFLECTANCE_MULT_BAND_7': 2.75e-05,\n",
       " 'REFLECTIVE_LINES': 7721,\n",
       " 'REFLECTIVE_SAMPLES': 7671,\n",
       " 'REQUEST_ID': 'P70184jnt9qv6_00034',\n",
       " 'ROLL_ANGLE': 0,\n",
       " 'SATURATION_BAND_1': 'Y',\n",
       " 'SATURATION_BAND_2': 'Y',\n",
       " 'SATURATION_BAND_3': 'Y',\n",
       " 'SATURATION_BAND_4': 'Y',\n",
       " 'SATURATION_BAND_5': 'Y',\n",
       " 'SATURATION_BAND_6': 'Y',\n",
       " 'SATURATION_BAND_7': 'Y',\n",
       " 'SATURATION_BAND_8': 'N',\n",
       " 'SATURATION_BAND_9': 'N',\n",
       " 'SCENE_CENTER_TIME': '14:34:03.6312569Z',\n",
       " 'SENSOR_ID': 'OLI_TIRS',\n",
       " 'SPACECRAFT_ID': 'LANDSAT_9',\n",
       " 'STATION_ID': 'LGN',\n",
       " 'SUN_AZIMUTH': 75.83925901,\n",
       " 'SUN_ELEVATION': 61.55347625,\n",
       " 'TARGET_WRS_PATH': 233,\n",
       " 'TARGET_WRS_ROW': 83,\n",
       " 'TEMPERATURE_ADD_BAND_ST_B10': 149,\n",
       " 'TEMPERATURE_MAXIMUM_BAND_ST_B10': 372.999941,\n",
       " 'TEMPERATURE_MINIMUM_BAND_ST_B10': 149.003418,\n",
       " 'TEMPERATURE_MULT_BAND_ST_B10': 0.00341802,\n",
       " 'THERMAL_LINES': 7721,\n",
       " 'THERMAL_SAMPLES': 7671,\n",
       " 'UTM_ZONE': 19,\n",
       " 'WRS_PATH': 233,\n",
       " 'WRS_ROW': 83,\n",
       " 'WRS_TYPE': 2,\n",
       " 'system:asset_size': '1057.576355 MB',\n",
       " 'system:band_names': ['SR_B1',\n",
       "  'SR_B2',\n",
       "  'SR_B3',\n",
       "  'SR_B4',\n",
       "  'SR_B5',\n",
       "  'SR_B6',\n",
       "  'SR_B7',\n",
       "  'SR_QA_AEROSOL',\n",
       "  'ST_B10',\n",
       "  'ST_ATRAN',\n",
       "  'ST_CDIST',\n",
       "  'ST_DRAD',\n",
       "  'ST_EMIS',\n",
       "  'ST_EMSD',\n",
       "  'ST_QA',\n",
       "  'ST_TRAD',\n",
       "  'ST_URAD',\n",
       "  'QA_PIXEL',\n",
       "  'QA_RADSAT'],\n",
       " 'system:id': 'LANDSAT/LC09/C02/T1_L2/LC09_233083_20211206',\n",
       " 'system:index': 'LC09_233083_20211206',\n",
       " 'system:time_end': '2021-12-06 14:34:03',\n",
       " 'system:time_start': '2021-12-06 14:34:03',\n",
       " 'system:version': 1644899080148205}"
      ]
     },
     "execution_count": 6,
     "metadata": {},
     "output_type": "execute_result"
    }
   ],
   "source": [
    "#Can't display the whole image collection's metadata, you have to do a single one as a single image data type\n",
    "First_LS9 = LS9_SR.first()\n",
    "geemap.image_props(First_LS9).getInfo()"
   ]
  },
  {
   "cell_type": "markdown",
   "id": "797f8057",
   "metadata": {},
   "source": [
    "### Get metadata for a specific date out of the image collection"
   ]
  },
  {
   "cell_type": "code",
   "execution_count": 7,
   "id": "665cfcdd",
   "metadata": {},
   "outputs": [
    {
     "data": {
      "text/plain": [
       "{'ALGORITHM_SOURCE_SURFACE_REFLECTANCE': 'LaSRC_1.5.0',\n",
       " 'ALGORITHM_SOURCE_SURFACE_TEMPERATURE': 'st_1.3.0',\n",
       " 'CLOUD_COVER': 3.67,\n",
       " 'CLOUD_COVER_LAND': 0.75,\n",
       " 'COLLECTION_CATEGORY': 'T1',\n",
       " 'COLLECTION_NUMBER': 2,\n",
       " 'DATA_SOURCE_AIR_TEMPERATURE': 'MODIS',\n",
       " 'DATA_SOURCE_ELEVATION': 'GLS2000',\n",
       " 'DATA_SOURCE_OZONE': 'MODIS',\n",
       " 'DATA_SOURCE_PRESSURE': 'Calculated',\n",
       " 'DATA_SOURCE_REANALYSIS': 'GEOS-5 FP-IT',\n",
       " 'DATA_SOURCE_WATER_VAPOR': 'MODIS',\n",
       " 'DATE_ACQUIRED': '2022-12-09',\n",
       " 'DATE_PRODUCT_GENERATED': 1670743431000,\n",
       " 'DATUM': 'WGS84',\n",
       " 'EARTH_SUN_DISTANCE': 0.9849237,\n",
       " 'ELLIPSOID': 'WGS84',\n",
       " 'GEOMETRIC_RMSE_MODEL': 5.117,\n",
       " 'GEOMETRIC_RMSE_MODEL_X': 3.532,\n",
       " 'GEOMETRIC_RMSE_MODEL_Y': 3.702,\n",
       " 'GEOMETRIC_RMSE_VERIFY': 2.891,\n",
       " 'GRID_CELL_SIZE_REFLECTIVE': 30,\n",
       " 'GRID_CELL_SIZE_THERMAL': 30,\n",
       " 'GROUND_CONTROL_POINTS_MODEL': 1139,\n",
       " 'GROUND_CONTROL_POINTS_VERIFY': 342,\n",
       " 'GROUND_CONTROL_POINTS_VERSION': 5,\n",
       " 'IMAGE_DATE': '2022-12-09',\n",
       " 'IMAGE_QUALITY_OLI': 9,\n",
       " 'IMAGE_QUALITY_TIRS': 9,\n",
       " 'L1_DATE_PRODUCT_GENERATED': '2022-12-09T21:37:47Z',\n",
       " 'L1_LANDSAT_PRODUCT_ID': 'LC09_L1TP_233083_20221209_20221209_02_T1',\n",
       " 'L1_PROCESSING_LEVEL': 'L1TP',\n",
       " 'L1_PROCESSING_SOFTWARE_VERSION': 'LPGS_16.1.0',\n",
       " 'L1_REQUEST_ID': '1613831_00034',\n",
       " 'LANDSAT_PRODUCT_ID': 'LC09_L2SP_233083_20221209_20221211_02_T1',\n",
       " 'LANDSAT_SCENE_ID': 'LC92330832022343LGN00',\n",
       " 'MAP_PROJECTION': 'UTM',\n",
       " 'NADIR_OFFNADIR': 'NADIR',\n",
       " 'NOMINAL_SCALE': 30,\n",
       " 'ORIENTATION': 'NORTH_UP',\n",
       " 'PROCESSING_LEVEL': 'L2SP',\n",
       " 'PROCESSING_SOFTWARE_VERSION': 'LPGS_16.1.0',\n",
       " 'REFLECTANCE_ADD_BAND_1': -0.2,\n",
       " 'REFLECTANCE_ADD_BAND_2': -0.2,\n",
       " 'REFLECTANCE_ADD_BAND_3': -0.2,\n",
       " 'REFLECTANCE_ADD_BAND_4': -0.2,\n",
       " 'REFLECTANCE_ADD_BAND_5': -0.2,\n",
       " 'REFLECTANCE_ADD_BAND_6': -0.2,\n",
       " 'REFLECTANCE_ADD_BAND_7': -0.2,\n",
       " 'REFLECTANCE_MULT_BAND_1': 2.75e-05,\n",
       " 'REFLECTANCE_MULT_BAND_2': 2.75e-05,\n",
       " 'REFLECTANCE_MULT_BAND_3': 2.75e-05,\n",
       " 'REFLECTANCE_MULT_BAND_4': 2.75e-05,\n",
       " 'REFLECTANCE_MULT_BAND_5': 2.75e-05,\n",
       " 'REFLECTANCE_MULT_BAND_6': 2.75e-05,\n",
       " 'REFLECTANCE_MULT_BAND_7': 2.75e-05,\n",
       " 'REFLECTIVE_LINES': 7731,\n",
       " 'REFLECTIVE_SAMPLES': 7681,\n",
       " 'REQUEST_ID': '1614187_00034',\n",
       " 'ROLL_ANGLE': -0.001,\n",
       " 'SATURATION_BAND_1': 'Y',\n",
       " 'SATURATION_BAND_2': 'Y',\n",
       " 'SATURATION_BAND_3': 'Y',\n",
       " 'SATURATION_BAND_4': 'Y',\n",
       " 'SATURATION_BAND_5': 'Y',\n",
       " 'SATURATION_BAND_6': 'Y',\n",
       " 'SATURATION_BAND_7': 'Y',\n",
       " 'SATURATION_BAND_8': 'N',\n",
       " 'SATURATION_BAND_9': 'N',\n",
       " 'SCENE_CENTER_TIME': '14:34:07.5253830Z',\n",
       " 'SENSOR_ID': 'OLI_TIRS',\n",
       " 'SPACECRAFT_ID': 'LANDSAT_9',\n",
       " 'STATION_ID': 'LGN',\n",
       " 'SUN_AZIMUTH': 76.6134735,\n",
       " 'SUN_ELEVATION': 61.47988694,\n",
       " 'TARGET_WRS_PATH': 233,\n",
       " 'TARGET_WRS_ROW': 83,\n",
       " 'TEMPERATURE_ADD_BAND_ST_B10': 149,\n",
       " 'TEMPERATURE_MAXIMUM_BAND_ST_B10': 372.999941,\n",
       " 'TEMPERATURE_MINIMUM_BAND_ST_B10': 149.003418,\n",
       " 'TEMPERATURE_MULT_BAND_ST_B10': 0.00341802,\n",
       " 'THERMAL_LINES': 7731,\n",
       " 'THERMAL_SAMPLES': 7681,\n",
       " 'UTM_ZONE': 19,\n",
       " 'WRS_PATH': 233,\n",
       " 'WRS_ROW': 83,\n",
       " 'WRS_TYPE': 2,\n",
       " 'system:asset_size': '1067.600639 MB',\n",
       " 'system:band_names': ['SR_B1',\n",
       "  'SR_B2',\n",
       "  'SR_B3',\n",
       "  'SR_B4',\n",
       "  'SR_B5',\n",
       "  'SR_B6',\n",
       "  'SR_B7',\n",
       "  'SR_QA_AEROSOL',\n",
       "  'ST_B10',\n",
       "  'ST_ATRAN',\n",
       "  'ST_CDIST',\n",
       "  'ST_DRAD',\n",
       "  'ST_EMIS',\n",
       "  'ST_EMSD',\n",
       "  'ST_QA',\n",
       "  'ST_TRAD',\n",
       "  'ST_URAD',\n",
       "  'QA_PIXEL',\n",
       "  'QA_RADSAT'],\n",
       " 'system:id': 'LANDSAT/LC09/C02/T1_L2/LC09_233083_20221209',\n",
       " 'system:index': 'LC09_233083_20221209',\n",
       " 'system:time_end': '2022-12-09 14:34:07',\n",
       " 'system:time_start': '2022-12-09 14:34:07',\n",
       " 'system:version': 1670764130594171}"
      ]
     },
     "execution_count": 7,
     "metadata": {},
     "output_type": "execute_result"
    }
   ],
   "source": [
    "#If you want a particular date for an image enter the index number\n",
    "LS9_2022_12_09 = ee.Image('LANDSAT/LC09/C02/T1_L2/LC09_233083_20221209')\n",
    "geemap.image_props(LS9_2022_12_09).getInfo()"
   ]
  },
  {
   "cell_type": "markdown",
   "id": "fcee2737",
   "metadata": {},
   "source": [
    "### Create a  visualization parameter for true color image"
   ]
  },
  {
   "cell_type": "code",
   "execution_count": 8,
   "id": "cfad49cd",
   "metadata": {},
   "outputs": [],
   "source": [
    "#Visualization parameters to be added to a graph\n",
    "vis_params_No_Scale = {\n",
    "  'bands': ['SR_B4', 'SR_B3', 'SR_B2'],\n",
    "  'min': 1,\n",
    "  'max': 65455,\n",
    "}"
   ]
  },
  {
   "cell_type": "markdown",
   "id": "0e0a37be",
   "metadata": {},
   "source": [
    "### Create a  visualization parameter for thermal image"
   ]
  },
  {
   "cell_type": "code",
   "execution_count": 9,
   "id": "bc668112",
   "metadata": {},
   "outputs": [],
   "source": [
    "#Visualization parameters to be added to a graph\n",
    "vis_params_Therm = {\n",
    "  'bands': ['ST_B10'],\n",
    "  'min': 0,\n",
    "  'max': 65535,\n",
    "}"
   ]
  },
  {
   "cell_type": "markdown",
   "id": "39ec138c",
   "metadata": {},
   "source": [
    "### Display the single images for the that were created"
   ]
  },
  {
   "cell_type": "code",
   "execution_count": null,
   "id": "7ebb39f6",
   "metadata": {},
   "outputs": [],
   "source": [
    "#Display in true color the first image and the 2022-12-09 image\n",
    "Map.addLayer(First_LS9, vis_params_No_Scale, 'First TC Image')\n",
    "Map.addLayer(LS9_2022_12_09, vis_params_No_Scale, '12-09 TC Image')\n",
    "\n",
    "#Display in thermal the first image and the 2022-12-09 image\n",
    "Map.addLayer(First_LS9, vis_params_Therm, 'First Therm Image')\n",
    "Map.addLayer(LS9_2022_12_09, vis_params_Therm, '12-09 Therm Image')\n",
    "\n",
    "#Add study boundary to the map (I did this again because they wouldn't be in the right order)\n",
    "Map.addLayer(Study_Area, name = \"Study_Area\")\n",
    "Map.addLayer(Big_Study_Area, name = \"Big_Study_Area\")\n",
    "Map"
   ]
  },
  {
   "cell_type": "markdown",
   "id": "6462c3d1",
   "metadata": {},
   "source": [
    "## Your Task: Copy and paste metadata of  image 2022-08-03 into a text document and send to me"
   ]
  },
  {
   "cell_type": "code",
   "execution_count": null,
   "id": "dbac08fd",
   "metadata": {},
   "outputs": [],
   "source": [
    "#If you want a particular date for an image enter the index number\n",
    "LS9_2022_08_03 = ee.Image('')\n",
    "geemap.image_props(LS9_2022_08_03).getInfo()"
   ]
  },
  {
   "cell_type": "markdown",
   "id": "327df2f7",
   "metadata": {},
   "source": [
    "## Create pandas dataframe from all the metadata in the image collection and convert data into a csv file "
   ]
  },
  {
   "cell_type": "code",
   "execution_count": 10,
   "id": "9710bc9d",
   "metadata": {},
   "outputs": [
    {
     "name": "stdout",
     "output_type": "stream",
     "text": [
      "['LANDSAT_9', 'LANDSAT_9', 'LANDSAT_9', 'LANDSAT_9', 'LANDSAT_9', 'LANDSAT_9', 'LANDSAT_9', 'LANDSAT_9', 'LANDSAT_9', 'LANDSAT_9', 'LANDSAT_9', 'LANDSAT_9', 'LANDSAT_9', 'LANDSAT_9', 'LANDSAT_9', 'LANDSAT_9', 'LANDSAT_9', 'LANDSAT_9', 'LANDSAT_9', 'LANDSAT_9', 'LANDSAT_9', 'LANDSAT_9', 'LANDSAT_9', 'LANDSAT_9', 'LANDSAT_9', 'LANDSAT_9', 'LANDSAT_9']\n"
     ]
    }
   ],
   "source": [
    "#Create a list of sensor acquisitions and print them out\n",
    "Sensor = LS9_SR.aggregate_array(\"SPACECRAFT_ID\").getInfo()\n",
    "print(Sensor)"
   ]
  },
  {
   "cell_type": "code",
   "execution_count": 14,
   "id": "9f09ea5e",
   "metadata": {},
   "outputs": [
    {
     "name": "stdout",
     "output_type": "stream",
     "text": [
      "[83, 83, 83, 83, 83, 83, 83, 83, 83, 83, 83, 83, 83, 83, 83, 83, 83, 83, 83, 83, 83, 83, 83, 83, 83, 83, 83]\n"
     ]
    }
   ],
   "source": [
    "#Create a list of swath row acquisitions and print them out\n",
    "Row = LS9_SR.aggregate_array(\"WRS_ROW\").getInfo()\n",
    "print(Row)"
   ]
  },
  {
   "cell_type": "code",
   "execution_count": 15,
   "id": "7ea30d56",
   "metadata": {},
   "outputs": [
    {
     "name": "stdout",
     "output_type": "stream",
     "text": [
      "[233, 233, 233, 233, 233, 233, 233, 233, 233, 233, 233, 233, 233, 233, 233, 233, 233, 233, 233, 233, 233, 233, 233, 233, 233, 233, 233]\n"
     ]
    }
   ],
   "source": [
    "#Create a list of swath row acquisitions and print them out\n",
    "Path = LS9_SR.aggregate_array(\"WRS_PATH\").getInfo()\n",
    "print(Path)"
   ]
  },
  {
   "cell_type": "code",
   "execution_count": 12,
   "id": "69dd8038",
   "metadata": {},
   "outputs": [
    {
     "name": "stdout",
     "output_type": "stream",
     "text": [
      "[30.12, 16.91, 4.63, 0.92, 6.14, 20.78, 5.75, 0.54, 5.28, 5.61, 27.59, 12.03, 40.85, 30.22, 30.85, 1.86, 14.51, 54.61, 9.3, 13.36, 17.03, 14.07, 3.67, 11.61, 45.13, 2.89, 3.98]\n"
     ]
    }
   ],
   "source": [
    "#Create a list of cloud percentages and print them out\n",
    "CLD_Percent = LS9_SR.aggregate_array('CLOUD_COVER').getInfo()\n",
    "print(CLD_Percent)"
   ]
  },
  {
   "cell_type": "code",
   "execution_count": 16,
   "id": "b2847147",
   "metadata": {},
   "outputs": [
    {
     "name": "stdout",
     "output_type": "stream",
     "text": [
      "          Date     Sensor  Swath_Row  Swath_Path  Cloud_Percent\n",
      "0   2021-12-06  LANDSAT_9         83         233          30.12\n",
      "1   2021-12-22  LANDSAT_9         83         233          16.91\n",
      "2   2022-01-07  LANDSAT_9         83         233           4.63\n",
      "3   2022-01-23  LANDSAT_9         83         233           0.92\n",
      "4   2022-02-08  LANDSAT_9         83         233           6.14\n",
      "5   2022-02-24  LANDSAT_9         83         233          20.78\n",
      "6   2022-03-28  LANDSAT_9         83         233           5.75\n",
      "7   2022-04-13  LANDSAT_9         83         233           0.54\n",
      "8   2022-04-29  LANDSAT_9         83         233           5.28\n",
      "9   2022-05-15  LANDSAT_9         83         233           5.61\n",
      "10  2022-05-31  LANDSAT_9         83         233          27.59\n",
      "11  2022-06-16  LANDSAT_9         83         233          12.03\n",
      "12  2022-07-02  LANDSAT_9         83         233          40.85\n",
      "13  2022-07-18  LANDSAT_9         83         233          30.22\n",
      "14  2022-08-03  LANDSAT_9         83         233          30.85\n",
      "15  2022-08-19  LANDSAT_9         83         233           1.86\n",
      "16  2022-09-04  LANDSAT_9         83         233          14.51\n",
      "17  2022-09-20  LANDSAT_9         83         233          54.61\n",
      "18  2022-10-06  LANDSAT_9         83         233           9.30\n",
      "19  2022-10-22  LANDSAT_9         83         233          13.36\n",
      "20  2022-11-07  LANDSAT_9         83         233          17.03\n",
      "21  2022-11-23  LANDSAT_9         83         233          14.07\n",
      "22  2022-12-09  LANDSAT_9         83         233           3.67\n",
      "23  2022-12-25  LANDSAT_9         83         233          11.61\n",
      "24  2023-01-10  LANDSAT_9         83         233          45.13\n",
      "25  2023-01-26  LANDSAT_9         83         233           2.89\n",
      "26  2023-02-11  LANDSAT_9         83         233           3.98\n"
     ]
    }
   ],
   "source": [
    "#Save each list as a pandas dataframe\n",
    "Acquisition_Data = pd.DataFrame(list(zip(Dates, Sensor, Row, Path, CLD_Percent)), \n",
    "                                columns=['Date','Sensor', 'Swath_Row', 'Swath_Path', 'Cloud_Percent'])\n",
    "\n",
    "print(Acquisition_Data)"
   ]
  },
  {
   "cell_type": "code",
   "execution_count": 17,
   "id": "3e996d04",
   "metadata": {},
   "outputs": [],
   "source": [
    "#Save dataframe as a csv to a folder directory\n",
    "pd.DataFrame(Acquisition_Data).to_csv(r'D:\\Azad_Lab\\Chile_Proj\\Code\\Patrick_Files\\Data\\csv\\L9_SR_Metadata_Data.csv')"
   ]
  },
  {
   "cell_type": "markdown",
   "id": "5b699cdd",
   "metadata": {},
   "source": [
    "## Your Task: Create a new dataframe with max and min temperature and send csv to me"
   ]
  },
  {
   "cell_type": "code",
   "execution_count": null,
   "id": "926d7f5d",
   "metadata": {},
   "outputs": [],
   "source": [
    "#Create a list of minimum and maximaum temperature values in kelvin\n",
    "Temp_Min = LS9_SR.aggregate_array('').getInfo()\n",
    "print(Temp_Min)\n",
    "\n",
    "Temp_Max = LS9_SR.aggregate_array('').getInfo()\n",
    "print(Temp_Max)"
   ]
  },
  {
   "cell_type": "code",
   "execution_count": null,
   "id": "5e1b011f",
   "metadata": {},
   "outputs": [],
   "source": [
    "#Save each list as a pandas dataframe\n",
    "Acquisition_Temp_Data = pd.DataFrame(list(zip(Dates, Sensor, Row, Path, CLD_Percent, Temp_Min , Temp_Max), \n",
    "                                columns=['Date','Sensor', 'Swath_Row', 'Swath_Row', 'Cloud_Percent', 'Minimum Temp (K)', 'Maximum Temp (K)'])            \n",
    "                                     \n",
    "print(Acquisition_Temp_Data)"
   ]
  },
  {
   "cell_type": "code",
   "execution_count": null,
   "id": "582565e1",
   "metadata": {},
   "outputs": [],
   "source": [
    "#Save dataframe as a csv to a folder directory\n",
    "pd.DataFrame(Acquisition_Data).to_csv(r\"D:\\Azad_Lab\\Chile_Proj\\Code\\Patrick_Files\\Data\\csv\\L8_SR_Temp_Metadata_Data.csv\")"
   ]
  }
 ],
 "metadata": {
  "kernelspec": {
   "display_name": "Python 3 (ipykernel)",
   "language": "python",
   "name": "python3"
  },
  "language_info": {
   "codemirror_mode": {
    "name": "ipython",
    "version": 3
   },
   "file_extension": ".py",
   "mimetype": "text/x-python",
   "name": "python",
   "nbconvert_exporter": "python",
   "pygments_lexer": "ipython3",
   "version": "3.9.16"
  }
 },
 "nbformat": 4,
 "nbformat_minor": 5
}
